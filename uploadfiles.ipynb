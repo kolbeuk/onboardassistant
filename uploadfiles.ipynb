{
 "cells": [
  {
   "cell_type": "code",
   "execution_count": null,
   "metadata": {},
   "outputs": [],
   "source": [
    "from openai import OpenAI\n",
    "import json"
   ]
  },
  {
   "cell_type": "code",
   "execution_count": null,
   "metadata": {},
   "outputs": [],
   "source": [
    "client = OpenAI()"
   ]
  },
  {
   "cell_type": "code",
   "execution_count": null,
   "metadata": {},
   "outputs": [],
   "source": [
    "with open(\"file_details.json\", \"r\") as json_file:\n",
    "    file_details_list = json.load(json_file)"
   ]
  },
  {
   "cell_type": "code",
   "execution_count": null,
   "metadata": {},
   "outputs": [],
   "source": [
    "for file_details in file_details_list:\n",
    "    file_name = file_details[\"file_name\"]\n",
    "    file_purpose = file_details[\"file_purpose\"]\n",
    "\n",
    "    client.files.create(\n",
    "        file=open(file_name, \"rb\"),\n",
    "        purpose=file_purpose\n",
    "    )\n",
    "\n",
    "    print(f\"Uploaded file '{file_name}' with purpose '{file_purpose}'.\")"
   ]
  },
  {
   "cell_type": "code",
   "execution_count": null,
   "metadata": {},
   "outputs": [],
   "source": [
    "print(\"All files uploaded successfully.\")"
   ]
  },
  {
   "cell_type": "code",
   "execution_count": null,
   "metadata": {},
   "outputs": [],
   "source": [
    "# List all files\n",
    "files = client.files.list()\n",
    "\n",
    "# Loop through the list of files and print each file's details\n",
    "for file in files.data:\n",
    "    print(f\"File ID: {file.id}\")\n",
    "    print(f\"File Name: {file.filename}\")\n",
    "    print(f\"File Purpose: {file.purpose}\")\n",
    "    print(\"-\" * 30)  # Separating lines for clarity\n",
    "\n",
    "# If you want to count the total number of files, you can do this:\n",
    "total_files = len(files.data)\n",
    "print(f\"Total Number of Files: {total_files}\")"
   ]
  }
 ],
 "metadata": {
  "kernelspec": {
   "display_name": "Python 3",
   "language": "python",
   "name": "python3"
  },
  "language_info": {
   "codemirror_mode": {
    "name": "ipython",
    "version": 3
   },
   "file_extension": ".py",
   "mimetype": "text/x-python",
   "name": "python",
   "nbconvert_exporter": "python",
   "pygments_lexer": "ipython3",
   "version": "3.11.6"
  }
 },
 "nbformat": 4,
 "nbformat_minor": 2
}
