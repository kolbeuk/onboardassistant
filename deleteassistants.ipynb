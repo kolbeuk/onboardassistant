{
 "cells": [
  {
   "cell_type": "code",
   "execution_count": 1,
   "id": "4ef05003-2cfc-47c9-9c3c-4180ef13c77e",
   "metadata": {},
   "outputs": [],
   "source": [
    "from openai import OpenAI\n",
    "\n",
    "# Initialize the OpenAI client (replace with your actual API key)\n",
    "client = OpenAI()"
   ]
  },
  {
   "cell_type": "code",
   "execution_count": 2,
   "metadata": {},
   "outputs": [
    {
     "name": "stdout",
     "output_type": "stream",
     "text": [
      "List of Assistants:\n",
      "- onboardingassistant (ID: asst_oTUaJ1qsPVfW1MNMvMMccK8I)\n"
     ]
    }
   ],
   "source": [
    "# List all assistants\n",
    "my_assistants = client.beta.assistants.list(\n",
    "    order=\"desc\",\n",
    "    limit=\"20\",\n",
    ")\n",
    "print(\"List of Assistants:\")\n",
    "for assistant in my_assistants.data:\n",
    "    print(f\"- {assistant.name} (ID: {assistant.id})\")\n"
   ]
  },
  {
   "cell_type": "code",
   "execution_count": 3,
   "metadata": {},
   "outputs": [
    {
     "name": "stdout",
     "output_type": "stream",
     "text": [
      "Deleted onboardingassistant (ID: asst_oTUaJ1qsPVfW1MNMvMMccK8I)\n"
     ]
    }
   ],
   "source": [
    "# Ask for user confirmation to proceed with deletion\n",
    "user_confirmation = input(\"Do you want to delete all assistants? Type 'yes' to confirm: \")\n",
    "\n",
    "if user_confirmation.lower() == 'yes':\n",
    "    for assistant in my_assistants.data:\n",
    "        response = client.beta.assistants.delete(assistant.id)\n",
    "        print(f\"Deleted {assistant.name} (ID: {assistant.id})\")\n",
    "else:\n",
    "    print(\"Deletion cancelled.\")"
   ]
  }
 ],
 "metadata": {
  "kernelspec": {
   "display_name": "Python 3 (ipykernel)",
   "language": "python",
   "name": "python3"
  },
  "language_info": {
   "codemirror_mode": {
    "name": "ipython",
    "version": 3
   },
   "file_extension": ".py",
   "mimetype": "text/x-python",
   "name": "python",
   "nbconvert_exporter": "python",
   "pygments_lexer": "ipython3",
   "version": "3.11.6"
  }
 },
 "nbformat": 4,
 "nbformat_minor": 5
}
