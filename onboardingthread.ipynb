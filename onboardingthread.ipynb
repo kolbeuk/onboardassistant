{
 "cells": [
  {
   "cell_type": "code",
   "execution_count": null,
   "id": "4ef05003-2cfc-47c9-9c3c-4180ef13c77e",
   "metadata": {},
   "outputs": [],
   "source": [
    "# Import the OpenAI library to interact with OpenAI's APIs.\n",
    "# Create an instance of the OpenAI client.\n",
    "import json\n",
    "import os\n",
    "from openai import OpenAI\n"
   ]
  },
  {
   "cell_type": "code",
   "execution_count": null,
   "metadata": {},
   "outputs": [],
   "source": [
    "client = OpenAI()"
   ]
  },
  {
   "cell_type": "code",
   "execution_count": null,
   "id": "4ede3c99-c05f-402b-9df8-a471f787bf96",
   "metadata": {},
   "outputs": [],
   "source": [
    "# Create a new conversation thread using the OpenAI client.\n",
    "# This thread will be used for managing a series of messages within a conversation.\n",
    "thread = client.beta.threads.create()"
   ]
  },
  {
   "cell_type": "code",
   "execution_count": null,
   "metadata": {},
   "outputs": [],
   "source": [
    "print(thread.id)\n",
    "print(thread)"
   ]
  },
  {
   "cell_type": "code",
   "execution_count": null,
   "metadata": {},
   "outputs": [],
   "source": [
    "fileid=\"file-UcqlrjLgGzuQycbxgvOk5NpL\"\n",
    "assistant = 'asst_oTUaJ1qsPVfW1MNMvMMccK8I'\n",
    "content = \"\"\"Create an onboarding letter welcoming the new head of product to our team. The welcome will come from the team leader (teamleaderpersona.pdf). The welcome will be personable, while focusing more on professional alignments versus personal interests.\n",
    "\n",
    "Using the details in the PDF files provided, briefly summarize:\n",
    "\n",
    "Our company's history and key milestones (companyhistory.pdf)\n",
    "Our company values and culture, especially as they relate to innovation (companyvalues.pdf)\n",
    "Our company strategy, priorities and goals regarding technology solutions (companystrategy.pdf)\n",
    "Aim to keep the letter concise and focused. Focus more on how the new hire's background and skills align with and further the company's innovation strategy and values. You can mention complementary working styles or approaches, but avoid going into personal hobbies/interests.\"\"\""
   ]
  },
  {
   "cell_type": "code",
   "execution_count": null,
   "id": "0602340a-2e70-4b42-b107-7b19f0453f9b",
   "metadata": {},
   "outputs": [],
   "source": [
    "# Add a new message to the previously created conversation thread.\n",
    "message = client.beta.threads.messages.create(\n",
    "    # Specify the ID of the thread to which this message belongs.\n",
    "    thread_id=thread.id,\n",
    "    # Define the role of the message sender. In this case, it's from the 'user'.\n",
    "    role=\"user\",\n",
    "    # Content of the message.\n",
    "    content=content,\n",
    "    file_ids=[fileid]\n",
    ")"
   ]
  },
  {
   "cell_type": "code",
   "execution_count": null,
   "metadata": {},
   "outputs": [],
   "source": [
    "print(message)"
   ]
  },
  {
   "cell_type": "code",
   "execution_count": null,
   "id": "92c84b54-3c8d-4d48-a653-d8eb697b75a0",
   "metadata": {},
   "outputs": [],
   "source": [
    "# Run the Assistant\n",
    "run = client.beta.threads.runs.create(\n",
    "    # Specify the ID of the thread that the run will process.\n",
    "    thread_id=thread.id,\n",
    "    # Provide the ID of the Assistant that will handle the thread.\n",
    "    assistant_id=assistant,\n",
    "    # Give specific instructions for this run.\n",
    ")"
   ]
  },
  {
   "cell_type": "code",
   "execution_count": null,
   "id": "6451ce4f-4f86-4a55-a8f9-70b565ea4268",
   "metadata": {},
   "outputs": [],
   "source": [
    "run = client.beta.threads.runs.retrieve(\n",
    "  thread_id=thread.id,\n",
    "  run_id=run.id\n",
    ")\n",
    "print(run)"
   ]
  },
  {
   "cell_type": "code",
   "execution_count": null,
   "id": "272f463c-2798-4afc-b162-290c5b616563",
   "metadata": {},
   "outputs": [],
   "source": [
    "# Display the Assistant's Response\n",
    "messages = client.beta.threads.messages.list(\n",
    "  thread_id=thread.id\n",
    ")\n",
    "print(messages)"
   ]
  },
  {
   "cell_type": "code",
   "execution_count": null,
   "metadata": {},
   "outputs": [],
   "source": [
    "# Iterate through the messages and save each one to a separate file\n",
    "for message in messages:\n",
    "    thread_id = message.thread_id\n",
    "    message_id = message.id\n",
    "\n",
    "    # Create a file name based on thread ID and message ID\n",
    "    file_name = f\"{thread_id}_{message_id}.txt\"\n",
    "\n",
    "    # Write the message text to the file in the current working directory\n",
    "    with open(file_name, \"w\") as file:\n",
    "        file.write(str(message))\n",
    "\n",
    "# Print a message to confirm that the messages have been saved\n",
    "print(\"Messages saved to the current working directory.\")"
   ]
  },
  {
   "cell_type": "code",
   "execution_count": null,
   "metadata": {},
   "outputs": [],
   "source": [
    "print(messages)"
   ]
  },
  {
   "cell_type": "code",
   "execution_count": null,
   "id": "10058d9a-f532-4664-afec-55f6e502e84b",
   "metadata": {},
   "outputs": [],
   "source": [
    "# Assuming 'messages' is the object containing the thread messages\n",
    "for message in messages.data:\n",
    "    # Print the details of each message\n",
    "    print(\"ID:\", message.id)\n",
    "    print(\"Object Type:\", message.object)\n",
    "    print(\"Created At:\", message.created_at)\n",
    "    print(\"Thread ID:\", message.thread_id)\n",
    "    print(\"Role:\", message.role)\n",
    "\n",
    "    # Print the content of the message\n",
    "    for content in message.content:\n",
    "        if content.type == \"text\":\n",
    "            print(\"Content:\", content.text.value)\n",
    "\n",
    "    # Print file IDs, if any\n",
    "    print(\"File IDs:\", message.file_ids)\n",
    "\n",
    "    # Print the Assistant ID\n",
    "    print(\"Assistant ID:\", message.assistant_id)\n",
    "\n",
    "    # Print the Run ID\n",
    "    print(\"Run ID:\", message.run_id)\n",
    "\n",
    "    # Print any metadata\n",
    "    print(\"Metadata:\", message.metadata)\n",
    "\n",
    "    print(\"\\n----------------------------------------\\n\")"
   ]
  },
  {
   "cell_type": "code",
   "execution_count": null,
   "id": "7c6661fa-4246-478b-bd26-3a581797d57f",
   "metadata": {},
   "outputs": [],
   "source": []
  }
 ],
 "metadata": {
  "kernelspec": {
   "display_name": "Python 3 (ipykernel)",
   "language": "python",
   "name": "python3"
  },
  "language_info": {
   "codemirror_mode": {
    "name": "ipython",
    "version": 3
   },
   "file_extension": ".py",
   "mimetype": "text/x-python",
   "name": "python",
   "nbconvert_exporter": "python",
   "pygments_lexer": "ipython3",
   "version": "3.11.6"
  }
 },
 "nbformat": 4,
 "nbformat_minor": 5
}
