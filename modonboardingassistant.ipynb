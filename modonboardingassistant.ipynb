{
 "cells": [
  {
   "cell_type": "code",
   "execution_count": null,
   "id": "4ef05003-2cfc-47c9-9c3c-4180ef13c77e",
   "metadata": {},
   "outputs": [],
   "source": [
    "# Import the OpenAI library to interact with OpenAI's APIs.\n",
    "# Create an instance of the OpenAI client.\n",
    "import json\n",
    "from openai import OpenAI\n",
    "client = OpenAI()"
   ]
  },
  {
   "cell_type": "code",
   "execution_count": null,
   "id": "ccb19140-7b3a-4cd0-92a4-9c7d88f2f1c0",
   "metadata": {},
   "outputs": [],
   "source": [
    "# Retrieve a list of all your uploaded files\n",
    "files = client.files.list()\n",
    "\n",
    "# Initialize an empty list to store the file IDs\n",
    "file_ids = []\n",
    "\n",
    "# Loop through the files and extract the file IDs\n",
    "for file in files.data:\n",
    "    file_id = file.id\n",
    "    file_ids.append(file_id)\n",
    "\n",
    "# Print the list of file IDs\n",
    "print(\"List of File IDs:\")\n",
    "print(file_ids)"
   ]
  },
  {
   "cell_type": "code",
   "execution_count": null,
   "id": "4ee6fb22-8ed9-4f96-a030-792505066072",
   "metadata": {},
   "outputs": [],
   "source": [
    "instruction = \"\"\"You are a helpful letter writer. Your job is to write warm and personable onboarding letters welcoming a new employee to the company. The letter briefly touches upon the company's history and core values, emphasizing a sense of belonging and alignment with the company's ethos.\"\"\"\n",
    "# Create an Assistant using the OpenAI client.\n",
    "# This assistant is specifically designed for transforming messages.\n",
    "assistant = client.beta.assistants.create(\n",
    "    # Name of the Assistant.\n",
    "    name=\"onboardingassistant\",\n",
    "\n",
    "    # Description of what the Assistant does.\n",
    "    description=\"Tailors personalized onboarding experiences for new hires\",\n",
    "\n",
    "    # Here, \"gpt-4-1106-preview\" is used, which is a version of the GPT-4 model.\n",
    "    model=\"gpt-4-1106-preview\",\n",
    "    \n",
    "    # Main prompt for all interactions with the asssitant\n",
    "    instructions = instruction,\n",
    "\n",
    "    # List of tools enabled for the Assistant.\n",
    "    tools=[{\"type\": \"retrieval\"}],\n",
    "    file_ids=file_ids\n",
    ")\n",
    "print(assistant)"
   ]
  }
 ],
 "metadata": {
  "kernelspec": {
   "display_name": "Python 3 (ipykernel)",
   "language": "python",
   "name": "python3"
  },
  "language_info": {
   "codemirror_mode": {
    "name": "ipython",
    "version": 3
   },
   "file_extension": ".py",
   "mimetype": "text/x-python",
   "name": "python",
   "nbconvert_exporter": "python",
   "pygments_lexer": "ipython3",
   "version": "3.11.6"
  }
 },
 "nbformat": 4,
 "nbformat_minor": 5
}
